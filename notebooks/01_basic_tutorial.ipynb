{
 "cells": [
  {
   "cell_type": "markdown",
   "metadata": {},
   "source": [
    "# QEIR Framework - Basic Tutorial\n",
    "\n",
    "This notebook provides a step-by-step introduction to using the QEIR (Quantitative Easing Investment Response) framework for hypothesis testing.\n",
    "\n",
    "## Overview\n",
    "\n",
    "The QEIR framework tests three specific hypotheses about quantitative easing effects:\n",
    "\n",
    "1. **Hypothesis 1:** Central Bank Reaction and Confidence Effects\n",
    "2. **Hypothesis 2:** QE Impact on Private Investment\n",
    "3. **Hypothesis 3:** International QE Effects and Currency\n",
    "\n",
    "## Prerequisites\n",
    "\n",
    "- FRED API key (get one free at https://fred.stlouisfed.org/docs/api/api_key.html)\n",
    "- Python 3.8+ with required packages installed\n",
    "- Internet connection for data download"
   ]
  },
  {
   "cell_type": "markdown",
   "metadata": {},
   "source": [
    "## Setup and Imports"
   ]
  },
  {
   "cell_type": "code",
   "execution_count": null,
   "metadata": {},
   "outputs": [],
   "source": [
    "# Standard imports\n",
    "import pandas as pd\n",
    "import numpy as np\n",
    "import matplotlib.pyplot as plt\n",
    "import warnings\n",
    "warnings.filterwarnings('ignore')\n",
    "\n",
    "# QEIR framework imports\n",
    "from qeir.core.hypothesis_testing import QEHypothesisTester, HypothesisTestingConfig\n",
    "from qeir.utils.hypothesis_data_collector import HypothesisDataCollector\n",
    "from qeir.visualization.publication_visualization import PublicationVisualizationSuite\n",
    "\n",
    "# Set up plotting\n",
    "plt.style.use('seaborn-v0_8')\n",
    "plt.rcParams['figure.figsize'] = (12, 8)\n",
    "\n",
    "print(\"QEIR Framework Tutorial - Setup Complete\")"
   ]
  },
  {
   "cell_type": "markdown",
   "metadata": {},
   "source": [
    "## Step 1: Configure Your API Key\n",
    "\n",
    "**Important:** Make sure your FRED_API_KEY is set in the .env file.""
   ]
  },
  {
   "cell_type": "code",
   "execution_count": null,
   "metadata": {},
   "outputs": [],
   "source": [
    "# Configure your FRED API key from environment variable\n",
    "import os\n",
    "FRED_API_KEY = os.getenv('FRED_API_KEY')\n",
    "\n",
    "if not FRED_API_KEY:\n",
    "    raise ValueError(\"FRED_API_KEY environment variable is required. Please set it in your .env file.\")\n",
    "    \n",
    "print(\"✓ Using API key from environment variable\")\n",
    "\n",
    "# Verify API key format (should be 32 characters)\n",
    "if len(FRED_API_KEY) == 32:\n",
    "    print(\"✓ API key format looks correct\")\n",
    "else:\n",
    "    print(\"⚠ API key format may be incorrect (should be 32 characters)\")"
   ]
  },
  {
   "cell_type": "markdown",
   "metadata": {},
   "source": [
    "## Step 2: Initialize the Framework Components"
   ]
  },
  {
   "cell_type": "code",
   "execution_count": null,
   "metadata": {},
   "outputs": [],
   "source": [
    "# Initialize data collector\n",
    "collector = HypothesisDataCollector(fred_api_key=FRED_API_KEY)\n",
    "\n",
    "# Configure analysis parameters\n",
    "config = HypothesisTestingConfig(\n",
    "    start_date=\"2008-01-01\",\n",
    "    end_date=\"2023-12-31\",\n",
    "    confidence_level=0.95,\n",
    "    bootstrap_iterations=100,  # Reduced for tutorial speed\n",
    "    enable_robustness_tests=False  # Skip for basic tutorial\n",
    ")\n",
    "\n",
    "# Initialize hypothesis tester\n",
    "tester = QEHypothesisTester(data_collector=collector, config=config)\n",
    "\n",
    "print(\"✓ Framework components initialized\")\n",
    "print(f\"Analysis period: {config.start_date} to {config.end_date}\")\n",
    "print(f\"Bootstrap iterations: {config.bootstrap_iterations}\")"
   ]
  },
  {
   "cell_type": "markdown",
   "metadata": {},
   "source": [
    "## Step 3: Test API Connection and Data Availability"
   ]
  },
  {
   "cell_type": "code",
   "execution_count": null,
   "metadata": {},
   "outputs": [],
   "source": [
    "# Test API connection with a simple series\n",
    "try:\n",
    "    from fredapi import Fred\n",
    "    fred = Fred(api_key=FRED_API_KEY)\n",
    "    test_data = fred.get_series('GDP', limit=10)\n",
    "    print(f\"✓ API connection successful - downloaded {len(test_data)} GDP observations\")\n",
    "    print(f\"Latest GDP data: {test_data.index[-1]} = {test_data.iloc[-1]:.1f}\")\n",
    "except Exception as e:\n",
    "    print(f\"✗ API connection failed: {e}\")\n",
    "    print(\"Please check your API key and internet connection\")"
   ]
  },
  {
   "cell_type": "markdown",
   "metadata": {},
   "source": [
    "## Step 4: Collect Data for Analysis\n",
    "\n",
    "This step downloads all required economic data from FRED. It may take a few minutes."
   ]
  },
  {
   "cell_type": "code",
   "execution_count": null,
   "metadata": {},
   "outputs": [],
   "source": [
    "print(\"Collecting data for all hypotheses...\")\n",
    "print(\"This may take 2-5 minutes depending on your internet connection.\")\n",
    "\n",
    "# Load data for all hypotheses\n",
    "data = tester.load_data()\n",
    "\n",
    "print(f\"\\n✓ Data collection completed\")\n",
    "print(f\"Total series collected: {data.metadata['total_series_count']}\")\n",
    "print(f\"Collection timestamp: {data.metadata['collection_timestamp']}\")\n",
    "\n",
    "# Display data summary\n",
    "print(\"\\nData Summary:\")\n",
    "for attr_name in ['central_bank_reaction', 'confidence_effects', 'debt_service_burden', \n",
    "                  'long_term_yields', 'private_investment', 'qe_intensity']:\n",
    "    series = getattr(data, attr_name)\n",
    "    if series is not None and not series.empty:\n",
    "        print(f\"  {attr_name}: {len(series)} observations ({series.index.min()} to {series.index.max()})\")\n",
    "    else:\n",
    "        print(f\"  {attr_name}: No data available\")"
   ]
  },
  {
   "cell_type": "markdown",
   "metadata": {},
   "source": [
    "## Step 5: Validate Data Quality"
   ]
  },
  {
   "cell_type": "code",
   "execution_count": null,
   "metadata": {},
   "outputs": [],
   "source": [
    "# Create a dictionary of key series for validation\n",
    "key_series = {\n",
    "    'central_bank_reaction': data.central_bank_reaction,\n",
    "    'confidence_effects': data.confidence_effects,\n",
    "    'debt_service_burden': data.debt_service_burden,\n",
    "    'long_term_yields': data.long_term_yields,\n",
    "    'private_investment': data.private_investment,\n",
    "    'qe_intensity': data.qe_intensity\n",
    "}\n",
    "\n",
    "# Remove None values\n",
    "key_series = {k: v for k, v in key_series.items() if v is not None}\n",
    "\n",
    "# Validate data quality\n",
    "print(\"Validating data quality...\")\n",
    "quality_report = collector.validate_data_quality(key_series)\n",
    "\n",
    "# Display quality summary\n",
    "summary = quality_report['summary']\n",
    "print(f\"\\n✓ Data quality validation completed\")\n",
    "print(f\"Overall quality score: {summary['overall_quality_score']:.1f}/100\")\n",
    "print(f\"High quality series: {summary['high_quality_series']}/{summary['total_series']}\")\n",
    "print(f\"Issues found: {summary['critical_issues']} critical, {summary['error_issues']} errors, {summary['warning_issues']} warnings\")\n",
    "\n",
    "# Show series-level quality\n",
    "print(\"\\nSeries Quality Flags:\")\n",
    "quality_flags = collector.flag_quality_issues(key_series)\n",
    "for series_name, flags in quality_flags.items():\n",
    "    flag_symbol = {'GOOD': '✓', 'ACCEPTABLE': '~', 'POOR': '!', 'CRITICAL': '✗'}.get(flags['overall_flag'], '?')\n",
    "    print(f\"  {flag_symbol} {series_name}: {flags['overall_flag']} (score: {flags['quality_score']:.1f})\")"
   ]
  },
  {
   "cell_type": "markdown",
   "metadata": {},
   "source": [
    "## Step 6: Visualize Key Data Series"
   ]
  },
  {
   "cell_type": "code",
   "execution_count": null,
   "metadata": {},
   "outputs": [],
   "source": [
    "# Plot key data series\n",
    "fig, axes = plt.subplots(2, 3, figsize=(18, 12))\n",
    "axes = axes.flatten()\n",
    "\n",
    "series_to_plot = [\n",
    "    ('central_bank_reaction', 'Central Bank Reaction (Fed Assets)'),\n",
    "    ('confidence_effects', 'Confidence Effects'),\n",
    "    ('debt_service_burden', 'Debt Service Burden'),\n",
    "    ('long_term_yields', 'Long-term Yields (10Y Treasury)'),\n",
    "    ('private_investment', 'Private Investment'),\n",
    "    ('qe_intensity', 'QE Intensity')\n",
    "]\n",
    "\n",
    "for i, (attr_name, title) in enumerate(series_to_plot):\n",
    "    series = getattr(data, attr_name)\n",
    "    if series is not None and not series.empty:\n",
    "        axes[i].plot(series.index, series.values, linewidth=2)\n",
    "        axes[i].set_title(title, fontsize=12, fontweight='bold')\n",
    "        axes[i].grid(True, alpha=0.3)\n",
    "        axes[i].tick_params(axis='x', rotation=45)\n",
    "    else:\n",
    "        axes[i].text(0.5, 0.5, 'No Data Available', ha='center', va='center', \n",
    "                    transform=axes[i].transAxes, fontsize=12)\n",
    "        axes[i].set_title(title, fontsize=12, fontweight='bold')\n",
    "\n",
    "plt.tight_layout()\n",
    "plt.suptitle('Key Economic Data Series for QE Hypothesis Testing', \n",
    "             fontsize=16, fontweight='bold', y=1.02)\n",
    "plt.show()\n",
    "\n",
    "print(\"Data visualization completed\")"
   ]
  },
  {
   "cell_type": "markdown",
   "metadata": {},
   "source": [
    "## Step 7: Test Hypothesis 1 - Central Bank Reaction and Confidence Effects\n",
    "\n",
    "This hypothesis tests whether strong central bank reactions combined with negative confidence effects create thresholds where QE increases long-term yields."
   ]
  },
  {
   "cell_type": "code",
   "execution_count": null,
   "metadata": {},
   "outputs": [],
   "source": [
    "print(\"Testing Hypothesis 1: Central Bank Reaction and Confidence Effects\")\n",
    "print(\"This tests for threshold effects in QE transmission...\")\n",
    "\n",
    "# Test Hypothesis 1\n",
    "h1_results = tester.test_hypothesis1(data)\n",
    "\n",
    "# Display results\n",
    "print(f\"\\n✓ Hypothesis 1 testing completed\")\n",
    "print(f\"Test timestamp: {h1_results.test_timestamp}\")\n",
    "print(f\"Data period: {h1_results.data_period.get('start_date')} to {h1_results.data_period.get('end_date')}\")\n",
    "print(f\"Observations used: {h1_results.data_period.get('observations')}\")\n",
    "\n",
    "# Main findings\n",
    "main_result = h1_results.main_result\n",
    "if 'error' not in main_result:\n",
    "    print(\"\\nMain Findings:\")\n",
    "    print(f\"  Threshold detected: {main_result.get('threshold_detected', 'Unknown')}\")\n",
    "    if main_result.get('threshold_detected'):\n",
    "        print(f\"  Threshold value: {main_result.get('threshold_value', 'N/A'):.4f}\")\n",
    "        print(f\"  Regime 1 observations: {main_result.get('regime1_observations', 'N/A')}\")\n",
    "        print(f\"  Regime 2 observations: {main_result.get('regime2_observations', 'N/A')}\")\n",
    "        print(f\"  Overall R²: {main_result.get('overall_r2', 'N/A'):.4f}\")\n",
    "    \n",
    "    # Statistical significance\n",
    "    stat_sig = h1_results.statistical_significance\n",
    "    if stat_sig:\n",
    "        print(\"\\nStatistical Significance:\")\n",
    "        print(f\"  Structural break significant: {stat_sig.get('structural_break_significant', 'Unknown')}\")\n",
    "        print(f\"  F-statistic: {stat_sig.get('structural_break_fstat', 'N/A'):.4f}\")\n",
    "        print(f\"  P-value: {stat_sig.get('structural_break_pvalue', 'N/A'):.4f}\")\nelse:\n",
    "    print(f\"\\n✗ Hypothesis 1 testing failed: {main_result['error']}\")"
   ]
  },
  {
   "cell_type": "markdown",
   "metadata": {},
   "source": [
    "## Step 8: Test Hypothesis 2 - QE Impact on Private Investment\n",
    "\n",
    "This hypothesis analyzes how intensive QE reduces private investment when market distortions dominate interest rate effects."
   ]
  },
  {
   "cell_type": "code",
   "execution_count": null,
   "metadata": {},
   "outputs": [],
   "source": [
    "print(\"Testing Hypothesis 2: QE Impact on Private Investment\")\n",
    "print(\"This analyzes investment distortion effects...\")\n",
    "\n",
    "# Test Hypothesis 2\n",
    "h2_results = tester.test_hypothesis2(data)\n",
    "\n",
    "# Display results\n",
    "print(f\"\\n✓ Hypothesis 2 testing completed\")\n",
    "print(f\"Data period: {h2_results.data_period.get('start_date')} to {h2_results.data_period.get('end_date')}\")\n",
    "print(f\"Observations used: {h2_results.data_period.get('observations')}\")\n",
    "\n",
    "# Main findings\n",
    "main_result = h2_results.main_result\n",
    "if 'error' not in main_result:\n",
    "    print(\"\\nMain Findings:\")\n",
    "    print(f\"  Local projections fitted: {main_result.get('local_projections_fitted', 'Unknown')}\")\n",
    "    print(f\"  IV estimation fitted: {main_result.get('iv_fitted', 'Unknown')}\")\n",
    "    print(f\"  Horizons tested: {main_result.get('horizons_tested', 'N/A')}\")\n",
    "    print(f\"  Investment response detected: {main_result.get('investment_response_detected', 'Unknown')}\")\n",
    "    \n",
    "    # Statistical significance\n",
    "    stat_sig = h2_results.statistical_significance\n",
    "    if stat_sig:\n",
    "        print(\"\\nStatistical Significance:\")\n",
    "        if 'iv_second_stage_significant' in stat_sig:\n",
    "            print(f\"  IV second stage significant: {stat_sig['iv_second_stage_significant']}\")\n",
    "        if 'first_stage_f_stat' in stat_sig and stat_sig['first_stage_f_stat']:\n",
    "            print(f\"  First stage F-statistic: {stat_sig['first_stage_f_stat']:.4f}\")\nelse:\n",
    "    print(f\"\\n✗ Hypothesis 2 testing failed: {main_result['error']}\")"
   ]
  },
  {
   "cell_type": "markdown",
   "metadata": {},
   "source": [
    "## Step 9: Test Hypothesis 3 - International QE Effects and Currency\n",
    "\n",
    "This hypothesis studies whether QE reduces foreign bond demand, causing currency depreciation and inflation that offset QE benefits."
   ]
  },
  {
   "cell_type": "code",
   "execution_count": null,
   "metadata": {},
   "outputs": [],
   "source": [
    "print(\"Testing Hypothesis 3: International QE Effects and Currency\")\n",
    "print(\"This studies international spillover effects...\")\n",
    "\n",
    "# Test Hypothesis 3\n",
    "h3_results = tester.test_hypothesis3(data)\n",
    "\n",
    "# Display results\n",
    "print(f\"\\n✓ Hypothesis 3 testing completed\")\n",
    "print(f\"Data period: {h3_results.data_period.get('start_date')} to {h3_results.data_period.get('end_date')}\")\n",
    "print(f\"Observations used: {h3_results.data_period.get('observations')}\")\n",
    "\n",
    "# Main findings\n",
    "main_result = h3_results.main_result\n",
    "if 'error' not in main_result:\n",
    "    print(\"\\nMain Findings:\")\n",
    "    print(f\"  International analysis completed: {main_result.get('international_analysis_completed', 'Unknown')}\")\n",
    "    print(f\"  Variables analyzed: {main_result.get('variables_analyzed', 'N/A')}\")\n",
    "    print(f\"  Spillover effects detected: {main_result.get('spillover_effects_detected', 'Unknown')}\")\n",
    "    \n",
    "    # Statistical significance\n",
    "    stat_sig = h3_results.statistical_significance\n",
    "    if stat_sig:\n",
    "        print(\"\\nCorrelation Analysis:\")\n",
    "        if 'foreign_exchange_correlation' in stat_sig:\n",
    "            print(f\"  Foreign holdings - Exchange rate correlation: {stat_sig['foreign_exchange_correlation']:.4f}\")\n",
    "        if 'inflation_exchange_correlation' in stat_sig:\n",
    "            print(f\"  Inflation - Exchange rate correlation: {stat_sig['inflation_exchange_correlation']:.4f}\")\nelse:\n",
    "    print(f\"\\n✗ Hypothesis 3 testing failed: {main_result['error']}\")"
   ]
  },
  {
   "cell_type": "markdown",
   "metadata": {},
   "source": [
    "## Step 10: Summary of All Results"
   ]
  },
  {
   "cell_type": "code",
   "execution_count": null,
   "metadata": {},
   "outputs": [],
   "source": [
    "print(\"=\" * 60)\n",
    "print(\"QEIR FRAMEWORK - ANALYSIS SUMMARY\")\n",
    "print(\"=\" * 60)\n",
    "\n",
    "# Collect all results\n",
    "all_results = {\n",
    "    'hypothesis1': h1_results,\n",
    "    'hypothesis2': h2_results,\n",
    "    'hypothesis3': h3_results\n",
    "}\n",
    "\n",
    "# Summary table\n",
    "print(f\"\\nAnalysis Period: {config.start_date} to {config.end_date}\")\n",
    "print(f\"Bootstrap Iterations: {config.bootstrap_iterations}\")\n",
    "print(f\"Confidence Level: {config.confidence_level}\")\n",
    "\n",
    "print(\"\\nHypothesis Testing Results:\")\n",
    "print(\"-\" * 60)\n",
    "\n",
    "for i, (hyp_name, results) in enumerate(all_results.items(), 1):\n",
    "    print(f\"\\nHypothesis {i}: {results.hypothesis_name}\")\n",
    "    \n",
    "    if 'error' in results.main_result:\n",
    "        print(f\"  Status: ✗ FAILED - {results.main_result['error']}\")\n",
    "    else:\n",
    "        print(f\"  Status: ✓ COMPLETED\")\n",
    "        print(f\"  Observations: {results.data_period.get('observations', 'N/A')}\")\n",
    "        \n",
    "        # Hypothesis-specific key findings\n",
    "        if i == 1:  # Hypothesis 1\n",
    "            threshold_detected = results.main_result.get('threshold_detected', False)\n",
    "            print(f\"  Key Finding: Threshold {'detected' if threshold_detected else 'not detected'}\")\n",
    "            if threshold_detected:\n",
    "                print(f\"  Threshold Value: {results.main_result.get('threshold_value', 'N/A'):.4f}\")\n",
    "        elif i == 2:  # Hypothesis 2\n",
    "            investment_response = results.main_result.get('investment_response_detected', False)\n",
    "            print(f\"  Key Finding: Investment response {'detected' if investment_response else 'not detected'}\")\n",
    "        elif i == 3:  # Hypothesis 3\n",
    "            spillover_effects = results.main_result.get('spillover_effects_detected', False)\n",
    "            print(f\"  Key Finding: Spillover effects {'detected' if spillover_effects else 'not detected'}\")\n",
    "\n",
    "print(\"\\n\" + \"=\" * 60)\n",
    "print(\"Analysis completed successfully!\")\n",
    "print(\"For detailed results, examine the individual hypothesis result objects.\")\n",
    "print(\"=\" * 60)"
   ]
  },
  {
   "cell_type": "markdown",
   "metadata": {},
   "source": [
    "## Next Steps\n",
    "\n",
    "Now that you've completed the basic tutorial, you can:\n",
    "\n",
    "1. **Explore Advanced Features:**\n",
    "   - Enable robustness tests: `config.enable_robustness_tests = True`\n",
    "   - Increase bootstrap iterations: `config.bootstrap_iterations = 1000`\n",
    "   - Test alternative time periods\n",
    "\n",
    "2. **Customize Analysis:**\n",
    "   - Modify configuration parameters\n",
    "   - Use different data series\n",
    "   - Adjust model specifications\n",
    "\n",
    "3. **Generate Publication Outputs:**\n",
    "   - Create LaTeX tables\n",
    "   - Generate high-resolution figures\n",
    "   - Export results for further analysis\n",
    "\n",
    "4. **Explore Other Notebooks:**\n",
    "   - `02_hypothesis1_detailed.ipynb` - Detailed Hypothesis 1 analysis\n",
    "   - `03_hypothesis2_detailed.ipynb` - Detailed Hypothesis 2 analysis\n",
    "   - `04_hypothesis3_detailed.ipynb` - Detailed Hypothesis 3 analysis\n",
    "   - `05_advanced_configuration.ipynb` - Advanced configuration options\n",
    "   - `06_custom_analysis.ipynb` - Custom analysis examples\n",
    "\n",
    "## Troubleshooting\n",
    "\n",
    "If you encounter issues:\n",
    "\n",
    "1. **Check API Key:** Ensure your FRED API key is valid and properly configured\n",
    "2. **Internet Connection:** Verify you have a stable internet connection for data download\n",
    "3. **Data Quality:** Review data quality reports for any critical issues\n",
    "4. **Memory Issues:** Reduce bootstrap iterations or use shorter time periods\n",
    "5. **Model Convergence:** Adjust model parameters if fitting fails\n",
    "\n",
    "For detailed troubleshooting, see the `docs/troubleshooting_guide.md` file.\n",
    "\n",
    "## Support\n",
    "\n",
    "- **Documentation:** See `docs/api_documentation.md` for detailed API reference\n",
    "- **Notebooks:** Check other notebooks for more detailed examples\n",
    "- **FAQ:** Review `docs/faq.md` for common questions and answers"
   ]
  }
 ],
 "metadata": {
  "kernelspec": {
   "display_name": "Python 3",
   "language": "python",
   "name": "python3"
  },
  "language_info": {
   "codemirror_mode": {
    "name": "ipython",
    "version": 3
   },
   "file_extension": ".py",
   "mimetype": "text/x-python",
   "name": "python",
   "nbconvert_exporter": "python",
   "pygments_lexer": "ipython3",
   "version": "3.8.0"
  }
 },
 "nbformat": 4,
 "nbformat_minor": 4
}