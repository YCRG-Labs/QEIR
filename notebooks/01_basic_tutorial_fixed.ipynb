{
 "cells": [
  {
   "cell_type": "markdown",
   "metadata": {},
   "source": [
    "# QEIR Framework - Basic Tutorial\n",
    "\n",
    "This notebook provides a basic introduction to the QEIR (Quantitative Easing Investment Response) framework.\n",
    "\n",
    "## Step 1: Configure Your API Key\n",
    "\n",
    "**Important:** Make sure your FRED_API_KEY is set in the .env file."
   ]
  },
  {
   "cell_type": "code",
   "execution_count": null,
   "metadata": {},
   "outputs": [],
   "source": [
    "# Configure your FRED API key from environment variable\n",
    "import os\n",
    "FRED_API_KEY = os.getenv('FRED_API_KEY')\n",
    "\n",
    "if not FRED_API_KEY:\n",
    "    raise ValueError(\"FRED_API_KEY environment variable is required. Please set it in your .env file.\")\n",
    "    \n",
    "print(\"✓ Using API key from environment variable\")\n",
    "\n",
    "# Verify API key format (should be 32 characters)\n",
    "if len(FRED_API_KEY) == 32:\n",
    "    print(\"✓ API key format looks correct\")\n",
    "else:\n",
    "    print(\"⚠ API key format may be incorrect (should be 32 characters)\")"
   ]
  },
  {
   "cell_type": "markdown",
   "metadata": {},
   "source": [
    "## Step 2: Initialize the Framework"
   ]
  },
  {
   "cell_type": "code",
   "execution_count": null,
   "metadata": {},
   "outputs": [],
   "source": [
    "# Initialize data collector\n",
    "from qeir.utils.hypothesis_data_collector import HypothesisDataCollector\n",
    "from qeir.core.hypothesis_testing import HypothesisTestingConfig, QEHypothesisTester\n",
    "\n",
    "collector = HypothesisDataCollector(fred_api_key=FRED_API_KEY)\n",
    "\n",
    "# Configure analysis parameters\n",
    "config = HypothesisTestingConfig(\n",
    "    start_date=\"2008-01-01\",\n",
    "    end_date=\"2023-12-31\",\n",
    "    confidence_level=0.95\n",
    ")\n",
    "\n",
    "print(\"✓ Framework initialized successfully\")"
   ]
  },
  {
   "cell_type": "markdown",
   "metadata": {},
   "source": [
    "## Step 3: Test API Connection"
   ]
  },
  {
   "cell_type": "code",
   "execution_count": null,
   "metadata": {},
   "outputs": [],
   "source": [
    "# Test API connection\n",
    "try:\n",
    "    from fredapi import Fred\n",
    "    fred = Fred(api_key=FRED_API_KEY)\n",
    "    test_data = fred.get_series('GDP', limit=10)\n",
    "    print(f\"✓ API connection successful - downloaded {len(test_data)} GDP observations\")\n",
    "    print(f\"Latest GDP data point: {test_data.iloc[-1]:.2f} (Date: {test_data.index[-1].strftime('%Y-%m-%d')})\")\n",
    "except Exception as e:\n",
    "    print(f\"✗ API connection failed: {e}\")\n",
    "    print(\"Please check your API key and internet connection\")"
   ]
  },
  {
   "cell_type": "markdown",
   "metadata": {},
   "source": [
    "## Step 4: Run Basic Hypothesis Tests\n",
    "\n",
    "Now let's test all three hypotheses:"
   ]
  },
  {
   "cell_type": "code",
   "execution_count": null,
   "metadata": {},
   "outputs": [],
   "source": [
    "# Initialize the hypothesis tester\n",
    "tester = QEHypothesisTester(data_collector=collector, config=config)\n",
    "\n",
    "print(\"Starting hypothesis tests...\")\n",
    "print(\"This may take a few minutes to collect and analyze data.\")\n",
    "\n",
    "# Collect data for all hypotheses\n",
    "try:\n",
    "    data = tester.load_data()\n",
    "    print(\"✓ Data collection completed\")\n",
    "    \n",
    "    # Test Hypothesis 1\n",
    "    print(\"\\n--- Testing Hypothesis 1: Central Bank Reaction and Confidence Effects ---\")\n",
    "    h1_results = tester.test_hypothesis1(data)\n",
    "    print(f\"Hypothesis 1 completed: {h1_results.main_result.get('status', 'Unknown')}\")\n",
    "    \n",
    "    # Test Hypothesis 2\n",
    "    print(\"\\n--- Testing Hypothesis 2: QE Impact on Private Investment ---\")\n",
    "    h2_results = tester.test_hypothesis2(data)\n",
    "    print(f\"Hypothesis 2 completed: {h2_results.main_result.get('status', 'Unknown')}\")\n",
    "    \n",
    "    # Test Hypothesis 3\n",
    "    print(\"\\n--- Testing Hypothesis 3: International QE Effects ---\")\n",
    "    h3_results = tester.test_hypothesis3(data)\n",
    "    print(f\"Hypothesis 3 completed: {h3_results.main_result.get('status', 'Unknown')}\")\n",
    "    \n",
    "    print(\"\\n🎉 All hypothesis tests completed successfully!\")\n",
    "    \n",
    "except Exception as e:\n",
    "    print(f\"Error during testing: {e}\")\n",
    "    print(\"Please check the error message and try again.\")"
   ]
  },
  {
   "cell_type": "markdown",
   "metadata": {},
   "source": [
    "## Next Steps\n",
    "\n",
    "Congratulations! You've successfully run the basic QEIR analysis. Here are your next steps:\n",
    "\n",
    "### Detailed Analysis\n",
    "- `02_hypothesis1_detailed.ipynb` - Detailed Hypothesis 1 analysis\n",
    "- `03_hypothesis2_detailed.ipynb` - Detailed Hypothesis 2 analysis  \n",
    "- `04_hypothesis3_detailed.ipynb` - Detailed Hypothesis 3 analysis\n",
    "- `05_advanced_configuration.ipynb` - Advanced configuration options\n",
    "- `06_custom_analysis.ipynb` - Custom analysis examples\n",
    "\n",
    "### Command Line Interface\n",
    "You can also run analyses from the command line:\n",
    "```bash\n",
    "python -m qeir.cli hypothesis test-all\n",
    "python -m qeir.cli hypothesis test 1\n",
    "```\n",
    "\n",
    "### Getting Help\n",
    "- **Documentation:** See `docs/api_documentation.md` for detailed API reference\n",
    "- **Notebooks:** Check other notebooks for more detailed examples\n",
    "- **FAQ:** Review `docs/faq.md` for common questions and answers"
   ]
  }
 ],
 "metadata": {
  "kernelspec": {
   "display_name": "Python 3",
   "language": "python",
   "name": "python3"
  },
  "language_info": {
   "codemirror_mode": {
    "name": "ipython",
    "version": 3
   },
   "file_extension": ".py",
   "mimetype": "text/x-python",
   "name": "python",
   "nbconvert_exporter": "python",
   "pygments_lexer": "ipython3",
   "version": "3.8.0"
  }
 },
 "nbformat": 4,
 "nbformat_minor": 4
}