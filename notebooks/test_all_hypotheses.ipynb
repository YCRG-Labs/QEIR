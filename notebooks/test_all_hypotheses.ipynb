{
 "cells": [
  {
   "cell_type": "markdown",
   "metadata": {},
   "source": [
    "# Test All Three QE Hypotheses\n",
    "\n",
    "This notebook provides a streamlined way to test all three QE hypotheses in one place.\n",
    "\n",
    "## Setup"
   ]
  },
  {
   "cell_type": "code",
   "execution_count": 1,
   "metadata": {},
   "outputs": [
    {
     "name": "stdout",
     "output_type": "stream",
     "text": [
      "✓ API key loaded: f143d39a...\n"
     ]
    }
   ],
   "source": [
    "import os\n",
    "import pandas as pd\n",
    "import numpy as np\n",
    "from datetime import datetime\n",
    "\n",
    "# Load API key from environment\n",
    "FRED_API_KEY = os.getenv('FRED_API_KEY')\n",
    "if not FRED_API_KEY:\n",
    "    raise ValueError(\"FRED_API_KEY environment variable is required. Please set it in your .env file.\")\n",
    "\n",
    "print(f\"✓ API key loaded: {FRED_API_KEY[:8]}...\")"
   ]
  },
  {
   "cell_type": "markdown",
   "metadata": {},
   "source": [
    "## Initialize Framework"
   ]
  },
  {
   "cell_type": "code",
   "execution_count": 2,
   "metadata": {},
   "outputs": [
    {
     "name": "stdout",
     "output_type": "stream",
     "text": [
      "✓ Framework initialized successfully\n",
      "Analysis period: 2008-01-01 to 2023-12-31\n",
      "Confidence level: 0.95\n"
     ]
    }
   ],
   "source": [
    "from qeir.utils.hypothesis_data_collector import HypothesisDataCollector\n",
    "from qeir.core.hypothesis_testing import HypothesisTestingConfig, QEHypothesisTester\n",
    "\n",
    "# Initialize data collector\n",
    "collector = HypothesisDataCollector(fred_api_key=FRED_API_KEY)\n",
    "\n",
    "# Configure analysis parameters\n",
    "config = HypothesisTestingConfig(\n",
    "    start_date=\"2008-01-01\",\n",
    "    end_date=\"2023-12-31\",\n",
    "    confidence_level=0.95,\n",
    "    bootstrap_iterations=100  # Reduced for faster execution\n",
    ")\n",
    "\n",
    "# Initialize hypothesis tester\n",
    "tester = QEHypothesisTester(data_collector=collector, config=config)\n",
    "\n",
    "print(\"✓ Framework initialized successfully\")\n",
    "print(f\"Analysis period: {config.start_date} to {config.end_date}\")\n",
    "print(f\"Confidence level: {config.confidence_level}\")"
   ]
  },
  {
   "cell_type": "markdown",
   "metadata": {},
   "source": [
    "## Collect Data"
   ]
  },
  {
   "cell_type": "code",
   "execution_count": 3,
   "metadata": {},
   "outputs": [
    {
     "name": "stdout",
     "output_type": "stream",
     "text": [
      "Collecting data for all hypotheses...\n",
      "This may take a few minutes...\n"
     ]
    },
    {
     "name": "stderr",
     "output_type": "stream",
     "text": [
      "2025-09-02 21:40:51,526 - INFO - API SUCCESS: WALCL - 1185 points - 0.58s - Attempt 1\n",
      "2025-09-02 21:40:52,000 - INFO - API SUCCESS: WTREGEN - 2069 points - 0.47s - Attempt 1\n",
      "2025-09-02 21:40:52,386 - INFO - API SUCCESS: WSHOMCB - 1185 points - 0.39s - Attempt 1\n",
      "2025-09-02 21:40:52,756 - INFO - API SUCCESS: BOGMBASE - 799 points - 0.37s - Attempt 1\n",
      "2025-09-02 21:40:53,068 - INFO - API SUCCESS: FEDFUNDS - 854 points - 0.31s - Attempt 1\n",
      "2025-09-02 21:40:53,369 - INFO - API SUCCESS: UMCSENT - 873 points - 0.30s - Attempt 1\n",
      "2025-09-02 21:40:53,698 - INFO - API SUCCESS: BSCICP03USM665S - 889 points - 0.33s - Attempt 1\n",
      "2025-09-02 21:40:54,560 - INFO - API SUCCESS: STLFSI2 - 1463 points - 0.86s - Attempt 1\n",
      "2025-09-02 21:40:55,578 - INFO - API SUCCESS: VIXCLS - 9305 points - 1.02s - Attempt 1\n",
      "2025-09-02 21:40:56,625 - INFO - API SUCCESS: BAMLH0A0HYM2 - 7577 points - 1.05s - Attempt 1\n",
      "2025-09-02 21:40:56,864 - INFO - API SUCCESS: A091RC1Q027SBEA - 314 points - 0.24s - Attempt 1\n",
      "2025-09-02 21:40:57,093 - INFO - API SUCCESS: GDP - 318 points - 0.23s - Attempt 1\n",
      "2025-09-02 21:40:57,341 - INFO - API SUCCESS: GFDEBTN - 238 points - 0.25s - Attempt 1\n",
      "2025-09-02 21:40:59,414 - INFO - API SUCCESS: DGS10 - 16609 points - 2.07s - Attempt 1\n",
      "2025-09-02 21:41:00,726 - INFO - API SUCCESS: DGS30 - 12664 points - 1.31s - Attempt 1\n",
      "2025-09-02 21:41:01,766 - INFO - API SUCCESS: DFII10 - 5912 points - 1.04s - Attempt 1\n",
      "API call failed for WSHOMU (attempt 1): data_not_found - Bad Request.  The series does not exist.\n",
      "All retry attempts exhausted for WSHOMU\n",
      "All data sources failed for series WSHOMU\n",
      "2025-09-02 21:41:01,940 - ERROR - API FAILURE: WSHOMU - data_not_found - Bad Request.  The series does not exist. - 0.17s - Attempt 1\n",
      "All attempts failed for fed_securities_held: Bad Request.  The series does not exist.\n",
      "API call failed for MVTS (attempt 1): data_not_found - Bad Request.  The series does not exist.\n",
      "All retry attempts exhausted for MVTS\n",
      "All data sources failed for series MVTS\n",
      "2025-09-02 21:41:02,131 - ERROR - API FAILURE: MVTS - data_not_found - Bad Request.  The series does not exist. - 0.19s - Attempt 1\n",
      "All attempts failed for treasury_outstanding: Bad Request.  The series does not exist.\n",
      "2025-09-02 21:41:02,461 - INFO - API SUCCESS: MBST - 809 points - 0.33s - Attempt 1\n",
      "2025-09-02 21:41:02,719 - INFO - API SUCCESS: PNFI - 318 points - 0.26s - Attempt 1\n",
      "2025-09-02 21:41:02,975 - INFO - API SUCCESS: PNFIC1 - 314 points - 0.25s - Attempt 1\n",
      "2025-09-02 21:41:03,162 - INFO - API SUCCESS: PNFIC96 - 90 points - 0.19s - Attempt 1\n",
      "2025-09-02 21:41:03,413 - INFO - API SUCCESS: Y033RC1Q027SBEA - 314 points - 0.25s - Attempt 1\n",
      "2025-09-02 21:41:03,722 - INFO - API SUCCESS: TB3SMFFM - 854 points - 0.31s - Attempt 1\n",
      "2025-09-02 21:41:04,821 - INFO - API SUCCESS: BAMLC0A0CM - 7577 points - 1.10s - Attempt 1\n",
      "2025-09-02 21:41:05,305 - INFO - API SUCCESS: MORTGAGE30US - 2840 points - 0.48s - Attempt 1\n",
      "2025-09-02 21:41:06,949 - INFO - API SUCCESS: T10Y2Y - 12851 points - 1.64s - Attempt 1\n",
      "2025-09-02 21:41:07,414 - INFO - API SUCCESS: FEDFUNDS - 854 points - 0.46s - Attempt 1\n",
      "2025-09-02 21:41:09,414 - INFO - API SUCCESS: DPRIME - 18274 points - 2.00s - Attempt 1\n",
      "2025-09-02 21:41:10,893 - INFO - API SUCCESS: DAAA - 11130 points - 1.48s - Attempt 1\n",
      "2025-09-02 21:41:11,554 - INFO - API SUCCESS: MORTGAGE30US - 2840 points - 0.66s - Attempt 1\n",
      "Failed to collect 2 series: ['fed_securities_held', 'treasury_outstanding']\n",
      "2025-09-02 21:41:11,753 - INFO - API SUCCESS: FDHBFIN - 222 points - 0.20s - Attempt 1\n",
      "API call failed for FDHBFCH (attempt 1): data_not_found - Bad Request.  The series does not exist.\n",
      "All retry attempts exhausted for FDHBFCH\n",
      "All data sources failed for series FDHBFCH\n",
      "2025-09-02 21:41:12,091 - ERROR - API FAILURE: FDHBFCH - data_not_found - Bad Request.  The series does not exist. - 0.32s - Attempt 1\n",
      "All attempts failed for china_treasury_holdings: Bad Request.  The series does not exist.\n",
      "API call failed for FDHBFJP (attempt 1): data_not_found - Bad Request.  The series does not exist.\n",
      "All retry attempts exhausted for FDHBFJP\n",
      "All data sources failed for series FDHBFJP\n",
      "2025-09-02 21:41:12,290 - ERROR - API FAILURE: FDHBFJP - data_not_found - Bad Request.  The series does not exist. - 0.19s - Attempt 1\n",
      "All attempts failed for japan_treasury_holdings: Bad Request.  The series does not exist.\n",
      "2025-09-02 21:41:12,530 - INFO - API SUCCESS: FDHBATN - 178 points - 0.24s - Attempt 1\n",
      "2025-09-02 21:41:13,297 - INFO - API SUCCESS: DTWEXBGS - 5130 points - 0.77s - Attempt 1\n",
      "2025-09-02 21:41:14,129 - INFO - API SUCCESS: DEXUSEU - 6955 points - 0.83s - Attempt 1\n",
      "2025-09-02 21:41:15,586 - INFO - API SUCCESS: DEXJPUS - 14260 points - 1.46s - Attempt 1\n",
      "2025-09-02 21:41:16,781 - INFO - API SUCCESS: DEXCHUS - 11651 points - 1.20s - Attempt 1\n",
      "2025-09-02 21:41:17,210 - INFO - API SUCCESS: CPIAUCSL - 943 points - 0.43s - Attempt 1\n",
      "2025-09-02 21:41:17,549 - INFO - API SUCCESS: PCEPI - 799 points - 0.34s - Attempt 1\n",
      "2025-09-02 21:41:17,813 - INFO - API SUCCESS: IR - 515 points - 0.26s - Attempt 1\n",
      "2025-09-02 21:41:18,522 - INFO - API SUCCESS: T5YIE - 5914 points - 0.71s - Attempt 1\n",
      "2025-09-02 21:41:19,183 - INFO - API SUCCESS: T10YIE - 5914 points - 0.66s - Attempt 1\n",
      "API call failed for BOGZ1FL263169005Q (attempt 1): data_not_found - Bad Request.  The series does not exist.\n",
      "All retry attempts exhausted for BOGZ1FL263169005Q\n",
      "All data sources failed for series BOGZ1FL263169005Q\n",
      "2025-09-02 21:41:19,406 - ERROR - API FAILURE: BOGZ1FL263169005Q - data_not_found - Bad Request.  The series does not exist. - 0.22s - Attempt 1\n",
      "All attempts failed for portfolio_flows: Bad Request.  The series does not exist.\n",
      "API call failed for BOGZ1FL263192005Q (attempt 1): data_not_found - Bad Request.  The series does not exist.\n",
      "All retry attempts exhausted for BOGZ1FL263192005Q\n",
      "All data sources failed for series BOGZ1FL263192005Q\n",
      "2025-09-02 21:41:19,627 - ERROR - API FAILURE: BOGZ1FL263192005Q - data_not_found - Bad Request.  The series does not exist. - 0.21s - Attempt 1\n",
      "All attempts failed for direct_investment_flows: Bad Request.  The series does not exist.\n",
      "2025-09-02 21:41:19,954 - INFO - API SUCCESS: TRESEGUSM052N - 895 points - 0.32s - Attempt 1\n",
      "Failed to collect 4 series: ['china_treasury_holdings', 'japan_treasury_holdings', 'portfolio_flows', 'direct_investment_flows']\n"
     ]
    },
    {
     "name": "stdout",
     "output_type": "stream",
     "text": [
      "✓ Data collection completed successfully\n",
      "\n",
      "Data Summary:\n",
      "- Date range: 2008-01-01 to 2023-12-31\n",
      "- Observations: Unknown\n",
      "- Frequency: Unknown\n"
     ]
    }
   ],
   "source": [
    "print(\"Collecting data for all hypotheses...\")\n",
    "print(\"This may take a few minutes...\")\n",
    "\n",
    "try:\n",
    "    data = tester.load_data()\n",
    "    print(\"✓ Data collection completed successfully\")\n",
    "    \n",
    "    # Display data summary\n",
    "    print(f\"\\nData Summary:\")\n",
    "    print(f\"- Date range: {data.metadata['start_date']} to {data.metadata['end_date']}\")\n",
    "    print(f\"- Observations: {data.metadata.get('observations', 'Unknown')}\")\n",
    "    print(f\"- Frequency: {data.metadata.get('frequency', 'Unknown')}\")\n",
    "    \n",
    "except Exception as e:\n",
    "    print(f\"❌ Error collecting data: {e}\")\n",
    "    raise"
   ]
  },
  {
   "cell_type": "markdown",
   "metadata": {},
   "source": [
    "## Test Hypothesis 1: Central Bank Reaction and Confidence Effects\n",
    "\n",
    "This hypothesis tests whether central bank QE policies create threshold effects in confidence and investment behavior."
   ]
  },
  {
   "cell_type": "code",
   "execution_count": 4,
   "metadata": {},
   "outputs": [
    {
     "name": "stderr",
     "output_type": "stream",
     "text": [
      "Error in Hypothesis 1 testing: Insufficient overlapping data: only 9 observations\n"
     ]
    },
    {
     "name": "stdout",
     "output_type": "stream",
     "text": [
      "============================================================\n",
      "HYPOTHESIS 1: Central Bank Reaction and Confidence Effects\n",
      "============================================================\n",
      "\n",
      "✓ Hypothesis 1 testing completed\n",
      "Status: Unknown\n",
      "\n",
      "Hypothesis 1 Results Summary:\n",
      "  error: Insufficient overlapping data: only 9 observations\n",
      "  fitted: 0.0000\n"
     ]
    }
   ],
   "source": [
    "print(\"=\" * 60)\n",
    "print(\"HYPOTHESIS 1: Central Bank Reaction and Confidence Effects\")\n",
    "print(\"=\" * 60)\n",
    "\n",
    "try:\n",
    "    h1_results = tester.test_hypothesis1(data)\n",
    "    \n",
    "    print(\"\\n✓ Hypothesis 1 testing completed\")\n",
    "    print(f\"Status: {h1_results.main_result.get('status', 'Unknown')}\")\n",
    "    \n",
    "    # Display key results\n",
    "    if 'threshold_detected' in h1_results.main_result:\n",
    "        print(f\"Threshold detected: {h1_results.main_result['threshold_detected']}\")\n",
    "    \n",
    "    if 'confidence_effect' in h1_results.main_result:\n",
    "        print(f\"Confidence effect: {h1_results.main_result['confidence_effect']}\")\n",
    "        \n",
    "    print(f\"\\nHypothesis 1 Results Summary:\")\n",
    "    for key, value in h1_results.main_result.items():\n",
    "        if isinstance(value, (int, float)):\n",
    "            print(f\"  {key}: {value:.4f}\")\n",
    "        else:\n",
    "            print(f\"  {key}: {value}\")\n",
    "            \n",
    "except Exception as e:\n",
    "    print(f\"❌ Error in Hypothesis 1: {e}\")"
   ]
  },
  {
   "cell_type": "markdown",
   "metadata": {},
   "source": [
    "## Test Hypothesis 2: QE Impact on Private Investment\n",
    "\n",
    "This hypothesis examines how QE policies affect private sector investment through various transmission channels."
   ]
  },
  {
   "cell_type": "code",
   "execution_count": 5,
   "metadata": {},
   "outputs": [
    {
     "name": "stderr",
     "output_type": "stream",
     "text": [
      "Error in Hypothesis 2 testing: 'NoneType' object has no attribute 'dropna'\n"
     ]
    },
    {
     "name": "stdout",
     "output_type": "stream",
     "text": [
      "============================================================\n",
      "HYPOTHESIS 2: QE Impact on Private Investment\n",
      "============================================================\n",
      "\n",
      "✓ Hypothesis 2 testing completed\n",
      "Status: Unknown\n",
      "\n",
      "Hypothesis 2 Results Summary:\n",
      "  error: 'NoneType' object has no attribute 'dropna'\n",
      "  fitted: 0.0000\n"
     ]
    }
   ],
   "source": [
    "print(\"=\" * 60)\n",
    "print(\"HYPOTHESIS 2: QE Impact on Private Investment\")\n",
    "print(\"=\" * 60)\n",
    "\n",
    "try:\n",
    "    h2_results = tester.test_hypothesis2(data)\n",
    "    \n",
    "    print(\"\\n✓ Hypothesis 2 testing completed\")\n",
    "    print(f\"Status: {h2_results.main_result.get('status', 'Unknown')}\")\n",
    "    \n",
    "    # Display key results\n",
    "    if 'investment_response' in h2_results.main_result:\n",
    "        print(f\"Investment response: {h2_results.main_result['investment_response']}\")\n",
    "    \n",
    "    if 'transmission_channels' in h2_results.main_result:\n",
    "        print(f\"Transmission channels analyzed: {h2_results.main_result['transmission_channels']}\")\n",
    "        \n",
    "    print(f\"\\nHypothesis 2 Results Summary:\")\n",
    "    for key, value in h2_results.main_result.items():\n",
    "        if isinstance(value, (int, float)):\n",
    "            print(f\"  {key}: {value:.4f}\")\n",
    "        else:\n",
    "            print(f\"  {key}: {value}\")\n",
    "            \n",
    "except Exception as e:\n",
    "    print(f\"❌ Error in Hypothesis 2: {e}\")"
   ]
  },
  {
   "cell_type": "markdown",
   "metadata": {},
   "source": [
    "## Test Hypothesis 3: International QE Effects\n",
    "\n",
    "This hypothesis analyzes the international spillover effects of QE policies across different economies."
   ]
  },
  {
   "cell_type": "code",
   "execution_count": 6,
   "metadata": {},
   "outputs": [
    {
     "name": "stderr",
     "output_type": "stream",
     "text": [
      "Error in Hypothesis 3 testing: 'NoneType' object has no attribute 'dropna'\n"
     ]
    },
    {
     "name": "stdout",
     "output_type": "stream",
     "text": [
      "============================================================\n",
      "HYPOTHESIS 3: International QE Effects\n",
      "============================================================\n",
      "\n",
      "✓ Hypothesis 3 testing completed\n",
      "Status: Unknown\n",
      "\n",
      "Hypothesis 3 Results Summary:\n",
      "  error: 'NoneType' object has no attribute 'dropna'\n",
      "  fitted: 0.0000\n"
     ]
    }
   ],
   "source": [
    "print(\"=\" * 60)\n",
    "print(\"HYPOTHESIS 3: International QE Effects\")\n",
    "print(\"=\" * 60)\n",
    "\n",
    "try:\n",
    "    h3_results = tester.test_hypothesis3(data)\n",
    "    \n",
    "    print(\"\\n✓ Hypothesis 3 testing completed\")\n",
    "    print(f\"Status: {h3_results.main_result.get('status', 'Unknown')}\")\n",
    "    \n",
    "    # Display key results\n",
    "    if 'spillover_effects' in h3_results.main_result:\n",
    "        print(f\"Spillover effects: {h3_results.main_result['spillover_effects']}\")\n",
    "    \n",
    "    if 'international_transmission' in h3_results.main_result:\n",
    "        print(f\"International transmission: {h3_results.main_result['international_transmission']}\")\n",
    "        \n",
    "    print(f\"\\nHypothesis 3 Results Summary:\")\n",
    "    for key, value in h3_results.main_result.items():\n",
    "        if isinstance(value, (int, float)):\n",
    "            print(f\"  {key}: {value:.4f}\")\n",
    "        else:\n",
    "            print(f\"  {key}: {value}\")\n",
    "            \n",
    "except Exception as e:\n",
    "    print(f\"❌ Error in Hypothesis 3: {e}\")"
   ]
  },
  {
   "cell_type": "markdown",
   "metadata": {},
   "source": [
    "## Summary and Conclusions"
   ]
  },
  {
   "cell_type": "code",
   "execution_count": 7,
   "metadata": {},
   "outputs": [
    {
     "name": "stdout",
     "output_type": "stream",
     "text": [
      "============================================================\n",
      "ANALYSIS COMPLETE - SUMMARY\n",
      "============================================================\n",
      "\n",
      "Analysis completed at: 2025-09-02 21:41:20\n",
      "Analysis period: 2008-01-01 to 2023-12-31\n",
      "Confidence level: 0.95\n",
      "\n",
      "🎉 All three hypotheses have been tested successfully!\n",
      "\n",
      "Next steps:\n",
      "- Review detailed results in individual hypothesis notebooks\n",
      "- Run robustness tests with different configurations\n",
      "- Generate publication-ready figures and tables\n",
      "- Use CLI for batch processing: python -m qeir.cli hypothesis test-all\n"
     ]
    }
   ],
   "source": [
    "print(\"=\" * 60)\n",
    "print(\"ANALYSIS COMPLETE - SUMMARY\")\n",
    "print(\"=\" * 60)\n",
    "\n",
    "print(f\"\\nAnalysis completed at: {datetime.now().strftime('%Y-%m-%d %H:%M:%S')}\")\n",
    "print(f\"Analysis period: {config.start_date} to {config.end_date}\")\n",
    "print(f\"Confidence level: {config.confidence_level}\")\n",
    "\n",
    "print(\"\\n🎉 All three hypotheses have been tested successfully!\")\n",
    "\n",
    "print(\"\\nNext steps:\")\n",
    "print(\"- Review detailed results in individual hypothesis notebooks\")\n",
    "print(\"- Run robustness tests with different configurations\")\n",
    "print(\"- Generate publication-ready figures and tables\")\n",
    "print(\"- Use CLI for batch processing: python -m qeir.cli hypothesis test-all\")"
   ]
  }
 ],
 "metadata": {
  "kernelspec": {
   "display_name": "Python 3",
   "language": "python",
   "name": "python3"
  },
  "language_info": {
   "codemirror_mode": {
    "name": "ipython",
    "version": 3
   },
   "file_extension": ".py",
   "mimetype": "text/x-python",
   "name": "python",
   "nbconvert_exporter": "python",
   "pygments_lexer": "ipython3",
   "version": "3.11.9"
  }
 },
 "nbformat": 4,
 "nbformat_minor": 4
}
